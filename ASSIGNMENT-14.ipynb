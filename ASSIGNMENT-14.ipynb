{
 "cells": [
  {
   "cell_type": "code",
   "execution_count": 1,
   "id": "3d06af96",
   "metadata": {},
   "outputs": [],
   "source": [
    "from datetime import datetime\n",
    "def type_cast(data_type:'str', value):\n",
    "    \"\"\"\n",
    "    type_cast converts the data into respective datatypes\n",
    "    \"\"\"\n",
    "    if data_type == 'INT':\n",
    "        value = value.replace('-','')\n",
    "        return int(value)\n",
    "    elif data_type =='DATE':\n",
    "        value = value.replace('T',' ')\n",
    "        value = value.replace('Z','')\n",
    "        return datetime.strptime(value,'%Y-%m-%d %H:%M:%S')\n",
    "    else:\n",
    "        return str(value)"
   ]
  },
  {
   "cell_type": "code",
   "execution_count": 2,
   "id": "674df858",
   "metadata": {},
   "outputs": [],
   "source": [
    "data_types = ['INT', 'STRING', 'STRING', 'STRING','STRING', 'STRING']\n",
    "data_types_1 = ['INT', 'STRING', 'STRING','INT']\n",
    "data_types_2 = ['STRING', 'STRING','INT','INT']\n",
    "data_types_3 = ['INT','DATE','DATE']\n",
    "\n",
    "\n",
    "\n",
    "def type_cast_row(data_types: 'list', data_row:'iterable'):\n",
    "    \"\"\"\n",
    "    type_cast_row convert elements of each data_row into respective data types \n",
    "    INPUT: data_types : 'list': consists of data types that the data_row elements should be converted into.\n",
    "           data_row : consists of values that should be converted\n",
    "    RETURN: returns the list of value that properly converted\n",
    "    \"\"\"\n",
    "    return [type_cast(type_, value) for type_, value in zip(data_types, data_row)]"
   ]
  },
  {
   "cell_type": "code",
   "execution_count": 3,
   "id": "f60c2eeb",
   "metadata": {},
   "outputs": [],
   "source": [
    "import csv\n",
    "import operator\n",
    "from collections import namedtuple\n",
    "\n",
    "\n",
    "def read_file(file_name:'FILE',data_types:'list'):\n",
    "    \"\"\"\n",
    "    read_file reads,sorts,type casts the csv file and returns an iterator\n",
    "    INPUT: file_name : contains the file_name to be read.\n",
    "           data_types: list : consists the type of data that is present in the file.\n",
    "    RETURN: an iterator : returns a row of the file with proper type conversions\n",
    "    \"\"\"\n",
    "    with open(file_name) as f:\n",
    "        rows = csv.reader(f, delimiter=',')\n",
    "        header = next(rows)\n",
    "        file_data = namedtuple('file_data', header)\n",
    "        index = header.index('ssn')\n",
    "        sort = sorted(rows,key = operator.itemgetter(index))\n",
    "        for data in sort:\n",
    "            row = type_cast_row(data_types,data)\n",
    "            row = file_data(*row)\n",
    "            yield row\n",
    "    "
   ]
  },
  {
   "cell_type": "markdown",
   "id": "8bf6ebbf",
   "metadata": {},
   "source": [
    "### GOAL 1:\n",
    "***To create iterators for each of the four files that contained cleaned up data, of the correct type (e.g. string, int, date, etc), and represented by a named tuple.***"
   ]
  },
  {
   "cell_type": "code",
   "execution_count": 4,
   "id": "2a91b799",
   "metadata": {},
   "outputs": [],
   "source": [
    "personal_info = read_file('personal_info.csv',data_types)\n",
    "vehicles = read_file('vehicles.csv',data_types_1)\n",
    "empolyment = read_file('employment.csv',data_types_2)\n",
    "update_status = read_file('update_status.csv',data_types_3)"
   ]
  },
  {
   "cell_type": "code",
   "execution_count": 5,
   "id": "1686f9c7",
   "metadata": {},
   "outputs": [
    {
     "data": {
      "text/plain": [
       "(file_data(ssn=100539824, first_name='Sebastiano', last_name='Tester', gender='Male', language='Icelandic'),\n",
       " file_data(ssn=100539824, vehicle_make='Oldsmobile', vehicle_model='Bravada', model_year=1993),\n",
       " file_data(employer='Stiedemann-Bailey', department='Research and Development', employee_id=290890771, ssn=100539824),\n",
       " file_data(ssn=100539824, last_updated=datetime.datetime(2017, 10, 7, 0, 14, 42), created=datetime.datetime(2016, 1, 24, 21, 19, 30)))"
      ]
     },
     "execution_count": 5,
     "metadata": {},
     "output_type": "execute_result"
    }
   ],
   "source": [
    "next(personal_info),next(vehicles),next(empolyment),next(update_status)"
   ]
  },
  {
   "cell_type": "markdown",
   "id": "0461b809",
   "metadata": {},
   "source": [
    "### GOAL 2:\n",
    "***Create a single iterable that combines all the columns from all the iterators.***"
   ]
  },
  {
   "cell_type": "code",
   "execution_count": 6,
   "id": "be81cf30",
   "metadata": {},
   "outputs": [],
   "source": [
    "\n",
    "my_header = ['ssn', 'first_name', 'last_name', 'gender', 'language','vehicle_make', 'vehicle_model', 'model_year',\n",
    "             'employer', 'department', 'employee_id','last_updated', 'created']\n",
    "        \n",
    "\n",
    "class Combines:\n",
    "    \"\"\"\n",
    "    This is an iterable which returns the combine_data iterator\n",
    "    \"\"\"\n",
    "    def __init__(self, personal_info,vehicles,empolyment,update_status):\n",
    "        self.personal_info = personal_info\n",
    "        self.vehicles = vehicles\n",
    "        self.empolyment = empolyment\n",
    "        self.update_status = update_status\n",
    "\n",
    "    def __iter__(self):\n",
    "        return Combines.combine_data(self.personal_info,self.vehicles,self.empolyment,self.update_status)  \n",
    "    \n",
    "    @staticmethod\n",
    "    def combine_data(personal_info,vehicles,empolyment,update_status):\n",
    "        \"\"\"\n",
    "        This function combines data from the files and returns an iterator which yields a namedtuple\n",
    "        INPUT: 'personal_info,vehicles,empolyment,update_status': files that should be combined\n",
    "        RETURNS: an lazy iterator which iterates over namedtuple\n",
    "        \"\"\"\n",
    "        personal_info = read_file(personal_info,data_types)\n",
    "        vehicles = read_file(vehicles,data_types_1)\n",
    "        empolyment = read_file(empolyment,data_types_2)\n",
    "        update_status = read_file(update_status,data_types_3)\n",
    "\n",
    "        #creating a namedtuple\n",
    "        information = namedtuple('information',my_header)\n",
    "\n",
    "        for i in range(1000):\n",
    "            data = next(personal_info)\n",
    "            ssn, *data1= next(vehicles)\n",
    "            *data2, ssn = next(empolyment)\n",
    "            ssn, *data3 = next(update_status)\n",
    "            info = information(*data,*data1, *data2, *data3)\n",
    "            yield info\n",
    "        \n",
    "        \n",
    "files = 'personal_info.csv','vehicles.csv','employment.csv','update_status.csv'\n",
    "combine = Combines(*files)"
   ]
  },
  {
   "cell_type": "code",
   "execution_count": 7,
   "id": "3d4fd02b",
   "metadata": {},
   "outputs": [
    {
     "name": "stdout",
     "output_type": "stream",
     "text": [
      "information(ssn=100539824, first_name='Sebastiano', last_name='Tester', gender='Male', language='Icelandic', vehicle_make='Oldsmobile', vehicle_model='Bravada', model_year=1993, employer='Stiedemann-Bailey', department='Research and Development', employee_id=290890771, last_updated=datetime.datetime(2017, 10, 7, 0, 14, 42), created=datetime.datetime(2016, 1, 24, 21, 19, 30))\n",
      "\n",
      "information(ssn=101714702, first_name='Cayla', last_name='MacDonagh', gender='Female', language='Lao', vehicle_make='Ford', vehicle_model='Mustang', model_year=1997, employer='Nicolas and Sons', department='Sales', employee_id=416841359, last_updated=datetime.datetime(2017, 1, 23, 11, 23, 17), created=datetime.datetime(2016, 1, 27, 4, 32, 57))\n",
      "\n",
      "information(ssn=101840356, first_name='Nomi', last_name='Lipprose', gender='Female', language='Yiddish', vehicle_make='GMC', vehicle_model='Yukon', model_year=2005, employer='Connelly Group', department='Research and Development', employee_id=987952860, last_updated=datetime.datetime(2017, 10, 4, 11, 21, 30), created=datetime.datetime(2016, 9, 21, 23, 4, 7))\n",
      "\n",
      "information(ssn=104220928, first_name='Justinian', last_name='Kunzelmann', gender='Male', language='Dhivehi', vehicle_make='Oldsmobile', vehicle_model='Intrigue', model_year=2000, employer='Upton LLC', department='Marketing', employee_id=569817552, last_updated=datetime.datetime(2017, 3, 28, 12, 38, 29), created=datetime.datetime(2016, 4, 15, 11, 37, 17))\n",
      "\n",
      "information(ssn=104847144, first_name='Claudianus', last_name='Brixey', gender='Male', language='Afrikaans', vehicle_make='Ford', vehicle_model='Crown Victoria', model_year=2008, employer='Zemlak-Olson', department='Business Development', employee_id=462886707, last_updated=datetime.datetime(2018, 2, 19, 1, 34, 33), created=datetime.datetime(2016, 3, 15, 14, 7, 57))\n",
      "\n"
     ]
    }
   ],
   "source": [
    "from itertools import islice\n",
    "\n",
    "for row in islice(combine, 5):\n",
    "    print(row, end=\"\\n\\n\")\n",
    "#[data for data in combine ]"
   ]
  },
  {
   "cell_type": "code",
   "execution_count": 8,
   "id": "21b74fc0",
   "metadata": {},
   "outputs": [
    {
     "data": {
      "text/plain": [
       "information(ssn=100539824, first_name='Sebastiano', last_name='Tester', gender='Male', language='Icelandic', vehicle_make='Oldsmobile', vehicle_model='Bravada', model_year=1993, employer='Stiedemann-Bailey', department='Research and Development', employee_id=290890771, last_updated=datetime.datetime(2017, 10, 7, 0, 14, 42), created=datetime.datetime(2016, 1, 24, 21, 19, 30))"
      ]
     },
     "execution_count": 8,
     "metadata": {},
     "output_type": "execute_result"
    }
   ],
   "source": [
    "combine_iter = iter(combine)\n",
    "next(combine_iter)"
   ]
  },
  {
   "cell_type": "markdown",
   "id": "72da1c83",
   "metadata": {},
   "source": [
    "### GOAL 3\n",
    "***Create an iterator that only contains current records (i.e. not stale)***"
   ]
  },
  {
   "cell_type": "code",
   "execution_count": 9,
   "id": "5b2805b5",
   "metadata": {},
   "outputs": [],
   "source": [
    "def current_records(date:'date_time_object'):\n",
    "    \"\"\"\n",
    "    This function creates namedtuple of record which doesnot contain any stale records\n",
    "    \"\"\"\n",
    "    combine = Combines.combine_data(*files)\n",
    "    current_info = namedtuple('current_info',my_header)\n",
    "    for data in combine:\n",
    "        if data.last_updated > date:\n",
    "            current_info_data = current_info(*data)\n",
    "            yield current_info_data\n",
    "\n",
    "\n",
    "date = datetime(2017,3,1,0,0,0)        \n",
    "current_record = current_records(date)        \n",
    "    "
   ]
  },
  {
   "cell_type": "code",
   "execution_count": 10,
   "id": "701408f3",
   "metadata": {},
   "outputs": [
    {
     "name": "stdout",
     "output_type": "stream",
     "text": [
      "current_info(ssn=100539824, first_name='Sebastiano', last_name='Tester', gender='Male', language='Icelandic', vehicle_make='Oldsmobile', vehicle_model='Bravada', model_year=1993, employer='Stiedemann-Bailey', department='Research and Development', employee_id=290890771, last_updated=datetime.datetime(2017, 10, 7, 0, 14, 42), created=datetime.datetime(2016, 1, 24, 21, 19, 30))\n",
      "\n",
      "current_info(ssn=101840356, first_name='Nomi', last_name='Lipprose', gender='Female', language='Yiddish', vehicle_make='GMC', vehicle_model='Yukon', model_year=2005, employer='Connelly Group', department='Research and Development', employee_id=987952860, last_updated=datetime.datetime(2017, 10, 4, 11, 21, 30), created=datetime.datetime(2016, 9, 21, 23, 4, 7))\n",
      "\n",
      "current_info(ssn=104220928, first_name='Justinian', last_name='Kunzelmann', gender='Male', language='Dhivehi', vehicle_make='Oldsmobile', vehicle_model='Intrigue', model_year=2000, employer='Upton LLC', department='Marketing', employee_id=569817552, last_updated=datetime.datetime(2017, 3, 28, 12, 38, 29), created=datetime.datetime(2016, 4, 15, 11, 37, 17))\n",
      "\n",
      "current_info(ssn=104847144, first_name='Claudianus', last_name='Brixey', gender='Male', language='Afrikaans', vehicle_make='Ford', vehicle_model='Crown Victoria', model_year=2008, employer='Zemlak-Olson', department='Business Development', employee_id=462886707, last_updated=datetime.datetime(2018, 2, 19, 1, 34, 33), created=datetime.datetime(2016, 3, 15, 14, 7, 57))\n",
      "\n",
      "current_info(ssn=105275541, first_name='Federico', last_name='Aggett', gender='Male', language='Chinese', vehicle_make='Ford', vehicle_model='Mustang', model_year=2001, employer='Kohler, Bradtke and Davis', department='Support', employee_id=800975518, last_updated=datetime.datetime(2017, 7, 24, 8, 58, 52), created=datetime.datetime(2016, 7, 23, 17, 58, 35))\n",
      "\n"
     ]
    }
   ],
   "source": [
    "for line in islice(current_record, 5):\n",
    "    print(line, end = '\\n\\n')"
   ]
  },
  {
   "cell_type": "markdown",
   "id": "075edcf8",
   "metadata": {},
   "source": [
    "### GOAL 4\n",
    "***Find the largest group of car makes for each gender.***"
   ]
  },
  {
   "cell_type": "code",
   "execution_count": 11,
   "id": "18989229",
   "metadata": {},
   "outputs": [],
   "source": [
    "def largest_car_maker():\n",
    "    \"\"\"\n",
    "    This function returns two dictionaries which consists of \n",
    "    count of number of cars made by each car_maker for each gender.\n",
    "    \n",
    "    \"\"\"\n",
    "    combine = Combines.combine_data(*files)\n",
    "    females = dict()\n",
    "    males = dict()\n",
    "    for data in combine:\n",
    "        if data.gender == 'Female':\n",
    "            females[data.vehicle_make] = females.get(data.vehicle_make,0)+1\n",
    "        else:\n",
    "            males[data.vehicle_make] = males.get(data.vehicle_make,0)+1\n",
    "    return females,males\n",
    "            "
   ]
  },
  {
   "cell_type": "code",
   "execution_count": 12,
   "id": "44ccee4b",
   "metadata": {},
   "outputs": [],
   "source": [
    "females, males = largest_car_maker()\n"
   ]
  },
  {
   "cell_type": "code",
   "execution_count": 13,
   "id": "0347ce75",
   "metadata": {},
   "outputs": [],
   "source": [
    "def maximum(dictionary:'dict'):\n",
    "    \"\"\"\n",
    "    This function returns a list which consists of car_makers with maximum count.\n",
    "    \"\"\"\n",
    "    itemMaxValue = max(dictionary.items(), key=lambda x: x[1])\n",
    "    listOfKeys = list()\n",
    "    # Iterate over all the items in dictionary to find keys with max value\n",
    "    for key, value in dictionary.items():\n",
    "        if value == itemMaxValue[1]:\n",
    "            listOfKeys.append(key)\n",
    "    return listOfKeys"
   ]
  },
  {
   "cell_type": "markdown",
   "id": "e7415574",
   "metadata": {},
   "source": [
    "***Largest group of car makes for FEMALE gender.***"
   ]
  },
  {
   "cell_type": "code",
   "execution_count": 14,
   "id": "5286bb3e",
   "metadata": {},
   "outputs": [
    {
     "data": {
      "text/plain": [
       "['Ford', 'Chevrolet']"
      ]
     },
     "execution_count": 14,
     "metadata": {},
     "output_type": "execute_result"
    }
   ],
   "source": [
    "maximum(females)"
   ]
  },
  {
   "cell_type": "markdown",
   "id": "fba73d32",
   "metadata": {},
   "source": [
    "***Largest group of car makes for MALE gender.***"
   ]
  },
  {
   "cell_type": "code",
   "execution_count": 15,
   "id": "0e0a4ccc",
   "metadata": {},
   "outputs": [
    {
     "data": {
      "text/plain": [
       "['Ford']"
      ]
     },
     "execution_count": 15,
     "metadata": {},
     "output_type": "execute_result"
    }
   ],
   "source": [
    "maximum(males)"
   ]
  },
  {
   "cell_type": "code",
   "execution_count": null,
   "id": "ccd55aaa",
   "metadata": {},
   "outputs": [],
   "source": []
  }
 ],
 "metadata": {
  "kernelspec": {
   "display_name": "Python 3",
   "language": "python",
   "name": "python3"
  },
  "language_info": {
   "codemirror_mode": {
    "name": "ipython",
    "version": 3
   },
   "file_extension": ".py",
   "mimetype": "text/x-python",
   "name": "python",
   "nbconvert_exporter": "python",
   "pygments_lexer": "ipython3",
   "version": "3.8.8"
  }
 },
 "nbformat": 4,
 "nbformat_minor": 5
}
